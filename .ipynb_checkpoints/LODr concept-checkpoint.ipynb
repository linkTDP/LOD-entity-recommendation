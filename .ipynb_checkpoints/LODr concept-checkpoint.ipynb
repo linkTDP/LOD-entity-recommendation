{
 "metadata": {
  "name": "",
  "signature": "sha256:7e1468decaadce3ddddf311a95ab80e2f9c85e2e267fbc0ed25d3c16e757e37e"
 },
 "nbformat": 3,
 "nbformat_minor": 0,
 "worksheets": [
  {
   "cells": [
    {
     "cell_type": "code",
     "collapsed": false,
     "input": [
      "from IPython.display import Math\n",
      "import newspaper as nw\n",
      "import pymongo as pm\n",
      "\n",
      "def getTextArticleByUrl(url):\n",
      "    article = nw.Article(url)\n",
      "    article.download()\n",
      "    article.parse()\n",
      "#    print article.text\n",
      "    return article.text,article.title,article.tags\n",
      "\n",
      "def getEntitySetFromId(id):\n",
      "    client = pm.MongoClient()\n",
      "    db=client.knoesis\n",
      "    return db.article.find_one({'_id':id})['entitySet']"
     ],
     "language": "python",
     "metadata": {},
     "outputs": [],
     "prompt_number": 19
    },
    {
     "cell_type": "heading",
     "level": 1,
     "metadata": {},
     "source": [
      "LODr"
     ]
    },
    {
     "cell_type": "markdown",
     "metadata": {},
     "source": [
      "The first concept of the idea was:\n",
      "\n",
      "**To design a technique that given a campaign of Twitris produce as output a *summary* containing information taken from LOD.**\n",
      "\n",
      "In my opinion a better reformulation of the idea can be:\n",
      "\n",
      "**To design a technique able to *recommend* a portion of LOD containing information related to a group starting entities taken form a Twitris campaign.**\n",
      "\n",
      "In order to reduce the complexity of the problem I decided to use as input a news article instead of a Twitrist campaign. The reason for this choice are:\n",
      "-\tBoth a news article and a Twitris campaign can be described through a set of entities. We can utilize NER Api to extract the entities contained in news article, while Twitris already extract entities for each campaign.\n",
      "-\tA news article is better understandable and less wide than a Twitrist campaign and that can make easier the developing of the technique.\n",
      "-\tWhen the technique will be developed and tested, we can easily adapt it to work with Twitris. \n",
      "\n",
      "This idea is based on the assumption that usually in a news article not all the information are make explicit by the author for brevity reasons. The user should usually own a basic background knowledge to fully understand the article. This implicit knowledge can be found in general domain knowledge graphs and DBPedia is certainly the best candidate.\n",
      "\n",
      "##Method##\n",
      "\n",
      "I use both AlchemyAPI and DBPedia Spotlight to find out the entities *E* contained in the article *A*.\n",
      "\n",
      "By starting from this set of entities *E* I extract from DBPedia a subgraph of triples *ST* that connect these entities. I want to use network analysis techniques to infer witch entities of this subgraph can represent the implicit knowledge of the article *A*. The huge number of instances and links between them of DBPedia requires careful techniques on the extraction of the subgraph *st* if we want that techniques of network analysis are effective.\n",
      "\n",
      "\n",
      "###Subgraph extraction###\n",
      "\n",
      "The network that have to generate is composed by the triples that connect the source entities *E*. I generate a group of SPARQL queries for each couple *e1* *e2*: \n",
      "$$ e1,e2 \\in E \\land e1 \\neq e2$$\n",
      "\n",
      "For each couple of entities can be generated queries able to find the triples connecting these two entities with different length path. The RDF data model is a directed graph so to extract the tiples connecting 2 entities with a path of length 2 we have to 4 different queries:\n",
      "\n",
      "<img src=\"files/ex_query.png\">\n"
     ]
    },
    {
     "cell_type": "code",
     "collapsed": false,
     "input": [],
     "language": "python",
     "metadata": {},
     "outputs": []
    },
    {
     "cell_type": "code",
     "collapsed": false,
     "input": [
      "From this article http://www.miamiherald.com/news/nation-world/world/article27284962.html titled **\u2018What is justice?\u2019 Auschwitz guard gets 4 years in 300,000 killings**, the soruce entities are:\n"
     ],
     "language": "python",
     "metadata": {},
     "outputs": []
    },
    {
     "cell_type": "code",
     "collapsed": false,
     "input": [
      "for e in getEntitySetFromId(2):\n",
      "    print e"
     ],
     "language": "python",
     "metadata": {},
     "outputs": [
      {
       "output_type": "stream",
       "stream": "stdout",
       "text": [
        "http://dbpedia.org/resource/Auschwitz_concentration_camp\n",
        "http://dbpedia.org/resource/Court\n",
        "http://dbpedia.org/resource/Conviction\n",
        "http://dbpedia.org/resource/Accessory_%28legal_term%29\n",
        "http://yago-knowledge.org/resource/Germany\n",
        "http://dbpedia.org/resource/Associated_Press\n",
        "http://sw.opencyc.org/concept/Mx4rvVj4PJwpEbGdrcN5Y29ycA\n",
        "http://dbpedia.org/resource/Extermination_camp\n",
        "http://dbpedia.org/resource/Verdict\n",
        "http://dbpedia.org/resource/Sentence_%28law%29\n",
        "http://dbpedia.org/resource/July_15\n",
        "http://dbpedia.org/resource/L\u00fcneburg\n",
        "http://dbpedia.org/resource/L%C3%BCneburg\n",
        "http://yago-knowledge.org/resource/L%C3%BCneburg\n",
        "http://dbpedia.org/resource/Schutzstaffel\n",
        "http://dbpedia.org/resource/Nazi_Germany\n",
        "http://dbpedia.org/resource/Germany\n",
        "http://dbpedia.org/resource/Oskar_Gr\u00f6ning\n",
        "http://dbpedia.org/resource/Trial\n",
        "http://dbpedia.org/resource/Count\n"
       ]
      }
     ],
     "prompt_number": 21
    },
    {
     "cell_type": "markdown",
     "metadata": {},
     "source": [
      "I trye"
     ]
    },
    {
     "cell_type": "code",
     "collapsed": false,
     "input": [],
     "language": "python",
     "metadata": {},
     "outputs": []
    },
    {
     "cell_type": "code",
     "collapsed": false,
     "input": [],
     "language": "python",
     "metadata": {},
     "outputs": [],
     "prompt_number": 21
    },
    {
     "cell_type": "code",
     "collapsed": false,
     "input": [],
     "language": "python",
     "metadata": {},
     "outputs": []
    },
    {
     "cell_type": "code",
     "collapsed": false,
     "input": [],
     "language": "python",
     "metadata": {},
     "outputs": []
    }
   ],
   "metadata": {}
  }
 ]
}